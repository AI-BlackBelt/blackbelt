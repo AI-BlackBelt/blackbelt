{
 "cells": [
  {
   "cell_type": "markdown",
   "metadata": {},
   "source": [
    "# Challenge\n",
    "\n",
    "AI Black Belt - Yellow (May 2019).\n",
    "\n",
    "---"
   ]
  },
  {
   "cell_type": "markdown",
   "metadata": {},
   "source": [
    "<div class=\"alert alert-success\">\n",
    "\n",
    "<b>Option 1</b>:\n",
    "\n",
    "Explore the <code>\"data/churn.csv\"</code> dataset. Can you come up with a good predictive model for whether a customer will churn? \n",
    "    \n",
    "    \n",
    "</ul>\n",
    "</div>"
   ]
  },
  {
   "cell_type": "markdown",
   "metadata": {
    "ExecuteTime": {
     "end_time": "2019-06-20T17:26:13.396137Z",
     "start_time": "2019-06-20T17:26:12.746212Z"
    }
   },
   "source": [
    "https://www.kaggle.com/sandipdatta/customer-churn-analysis"
   ]
  },
  {
   "cell_type": "markdown",
   "metadata": {},
   "source": [
    "<div class=\"alert alert-success\">\n",
    "\n",
    "<b>Option 2</b>:\n",
    "\n",
    "Go back the Titanic dataset in <code>\"data/titanic.csv\"</code>. Make use of all the features (which will require preprocessing) and try to find the best classifier on test data.\n",
    "    \n",
    "</ul>\n",
    "</div>"
   ]
  },
  {
   "cell_type": "code",
   "execution_count": null,
   "metadata": {
    "ExecuteTime": {
     "end_time": "2019-06-20T17:29:09.906703Z",
     "start_time": "2019-06-20T17:29:09.896412Z"
    }
   },
   "outputs": [],
   "source": [
    "# %load solutions/day2-03-titanic.py"
   ]
  },
  {
   "cell_type": "code",
   "execution_count": null,
   "metadata": {
    "ExecuteTime": {
     "end_time": "2019-06-20T17:46:42.222245Z",
     "start_time": "2019-06-20T17:46:42.214522Z"
    }
   },
   "outputs": [],
   "source": [
    "# %load solutions/day2-03-titanic.py\n",
    "import pandas as pd\n",
    "import numpy as np\n",
    "\n",
    "df = pd.read_csv(\"data/titanic.csv\")\n",
    "y = df[\"Survived\"]\n",
    "X = df.drop([\"Survived\", \"PassengerId\", \"Name\"], axis=1)\n",
    "\n",
    "from sklearn.impute import SimpleImputer\n",
    "imp = SimpleImputer(strategy=\"most_frequent\")\n",
    "\n",
    "X[\"Age\"] = imp.fit_transform(X[\"Age\"].values.reshape(-1, 1)).flatten()\n",
    "X[\"Cabin\"] = imp.fit_transform(X[\"Cabin\"].values.reshape(-1, 1)).flatten()\n",
    "X[\"Embarked\"] = imp.fit_transform(X[\"Embarked\"].values.reshape(-1, 1)).flatten()\n",
    "\n",
    "categories = (X.dtypes == object)\n",
    "\n",
    "from sklearn.compose import make_column_transformer\n",
    "from sklearn.preprocessing import OneHotEncoder\n",
    "from sklearn.preprocessing import StandardScaler\n",
    "tf = make_column_transformer((OneHotEncoder(sparse=False), categories),\n",
    "                             (StandardScaler(), ~categories),\n",
    "                             remainder=\"passthrough\")\n",
    "X_new = tf.fit_transform(X)\n",
    "\n",
    "from sklearn.model_selection import train_test_split\n",
    "X_train, X_test, y_train, y_test = train_test_split(X_new, y, random_state=0)\n",
    "\n",
    "from sklearn.ensemble import RandomForestClassifier\n",
    "clf = RandomForestClassifier(n_estimators=5000)\n",
    "clf.fit(X_train, y_train)\n",
    "print(\"RFs =\", clf.score(X_test, y_test))\n",
    "\n",
    "from sklearn.ensemble import ExtraTreesClassifier\n",
    "clf = ExtraTreesClassifier(n_estimators=5000)\n",
    "clf.fit(X_train, y_train)\n",
    "print(\"ETs =\", clf.score(X_test, y_test))\n",
    "\n",
    "from sklearn.svm import SVC\n",
    "clf = SVC(gamma=\"scale\", C=5.0)\n",
    "clf.fit(X_train, y_train)\n",
    "print(\"SVC =\", clf.score(X_test, y_test))\n"
   ]
  },
  {
   "cell_type": "code",
   "execution_count": null,
   "metadata": {},
   "outputs": [],
   "source": []
  }
 ],
 "metadata": {
  "kernelspec": {
   "display_name": "Python 3",
   "language": "python",
   "name": "python3"
  },
  "language_info": {
   "codemirror_mode": {
    "name": "ipython",
    "version": 3
   },
   "file_extension": ".py",
   "mimetype": "text/x-python",
   "name": "python",
   "nbconvert_exporter": "python",
   "pygments_lexer": "ipython3",
   "version": "3.5.2"
  },
  "varInspector": {
   "cols": {
    "lenName": 16,
    "lenType": 16,
    "lenVar": 40
   },
   "kernels_config": {
    "python": {
     "delete_cmd_postfix": "",
     "delete_cmd_prefix": "del ",
     "library": "var_list.py",
     "varRefreshCmd": "print(var_dic_list())"
    },
    "r": {
     "delete_cmd_postfix": ") ",
     "delete_cmd_prefix": "rm(",
     "library": "var_list.r",
     "varRefreshCmd": "cat(var_dic_list()) "
    }
   },
   "types_to_exclude": [
    "module",
    "function",
    "builtin_function_or_method",
    "instance",
    "_Feature"
   ],
   "window_display": false
  }
 },
 "nbformat": 4,
 "nbformat_minor": 2
}
