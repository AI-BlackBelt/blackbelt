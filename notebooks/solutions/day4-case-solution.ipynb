{
 "cells": [
  {
   "cell_type": "code",
   "execution_count": 31,
   "metadata": {
    "ExecuteTime": {
     "end_time": "2019-06-17T16:18:20.063093Z",
     "start_time": "2019-06-17T16:18:19.976179Z"
    }
   },
   "outputs": [
    {
     "data": {
      "text/html": [
       "<div>\n",
       "<style scoped>\n",
       "    .dataframe tbody tr th:only-of-type {\n",
       "        vertical-align: middle;\n",
       "    }\n",
       "\n",
       "    .dataframe tbody tr th {\n",
       "        vertical-align: top;\n",
       "    }\n",
       "\n",
       "    .dataframe thead th {\n",
       "        text-align: right;\n",
       "    }\n",
       "</style>\n",
       "<table border=\"1\" class=\"dataframe\">\n",
       "  <thead>\n",
       "    <tr style=\"text-align: right;\">\n",
       "      <th></th>\n",
       "      <th>fixed acidity</th>\n",
       "      <th>volatile acidity</th>\n",
       "      <th>citric acid</th>\n",
       "      <th>residual sugar</th>\n",
       "      <th>chlorides</th>\n",
       "      <th>free sulfur dioxide</th>\n",
       "      <th>total sulfur dioxide</th>\n",
       "      <th>density</th>\n",
       "      <th>pH</th>\n",
       "      <th>sulphates</th>\n",
       "      <th>alcohol</th>\n",
       "      <th>color</th>\n",
       "      <th>quality</th>\n",
       "    </tr>\n",
       "  </thead>\n",
       "  <tbody>\n",
       "    <tr>\n",
       "      <th>0</th>\n",
       "      <td>7.4</td>\n",
       "      <td>0.70</td>\n",
       "      <td>0.00</td>\n",
       "      <td>1.9</td>\n",
       "      <td>E</td>\n",
       "      <td>11.0</td>\n",
       "      <td>34.0</td>\n",
       "      <td>0.9978</td>\n",
       "      <td>3.51</td>\n",
       "      <td>medium</td>\n",
       "      <td>9.4</td>\n",
       "      <td>red</td>\n",
       "      <td>5</td>\n",
       "    </tr>\n",
       "    <tr>\n",
       "      <th>1</th>\n",
       "      <td>7.8</td>\n",
       "      <td>0.88</td>\n",
       "      <td>0.00</td>\n",
       "      <td>2.6</td>\n",
       "      <td>C</td>\n",
       "      <td>25.0</td>\n",
       "      <td>67.0</td>\n",
       "      <td>0.9968</td>\n",
       "      <td>3.2</td>\n",
       "      <td>high</td>\n",
       "      <td>9.8</td>\n",
       "      <td>red</td>\n",
       "      <td>5</td>\n",
       "    </tr>\n",
       "    <tr>\n",
       "      <th>2</th>\n",
       "      <td>7.8</td>\n",
       "      <td>0.76</td>\n",
       "      <td>0.04</td>\n",
       "      <td>2.3</td>\n",
       "      <td>C</td>\n",
       "      <td>15.0</td>\n",
       "      <td>54.0</td>\n",
       "      <td>0.9970</td>\n",
       "      <td>3.26</td>\n",
       "      <td>high</td>\n",
       "      <td>9.8</td>\n",
       "      <td>?</td>\n",
       "      <td>5</td>\n",
       "    </tr>\n",
       "    <tr>\n",
       "      <th>3</th>\n",
       "      <td>11.2</td>\n",
       "      <td>0.28</td>\n",
       "      <td>0.56</td>\n",
       "      <td>1.9</td>\n",
       "      <td>E</td>\n",
       "      <td>17.0</td>\n",
       "      <td>60.0</td>\n",
       "      <td>0.9980</td>\n",
       "      <td>3.16</td>\n",
       "      <td>medium</td>\n",
       "      <td>9.8</td>\n",
       "      <td>red</td>\n",
       "      <td>6</td>\n",
       "    </tr>\n",
       "    <tr>\n",
       "      <th>4</th>\n",
       "      <td>7.4</td>\n",
       "      <td>0.70</td>\n",
       "      <td>0.00</td>\n",
       "      <td>1.9</td>\n",
       "      <td>E</td>\n",
       "      <td>11.0</td>\n",
       "      <td>34.0</td>\n",
       "      <td>0.9978</td>\n",
       "      <td>3.51</td>\n",
       "      <td>medium</td>\n",
       "      <td>9.4</td>\n",
       "      <td>red</td>\n",
       "      <td>5</td>\n",
       "    </tr>\n",
       "  </tbody>\n",
       "</table>\n",
       "</div>"
      ],
      "text/plain": [
       "   fixed acidity  volatile acidity  citric acid  residual sugar chlorides  \\\n",
       "0            7.4              0.70         0.00             1.9         E   \n",
       "1            7.8              0.88         0.00             2.6         C   \n",
       "2            7.8              0.76         0.04             2.3         C   \n",
       "3           11.2              0.28         0.56             1.9         E   \n",
       "4            7.4              0.70         0.00             1.9         E   \n",
       "\n",
       "   free sulfur dioxide  total sulfur dioxide  density    pH sulphates  \\\n",
       "0                 11.0                  34.0   0.9978  3.51    medium   \n",
       "1                 25.0                  67.0   0.9968   3.2      high   \n",
       "2                 15.0                  54.0   0.9970  3.26      high   \n",
       "3                 17.0                  60.0   0.9980  3.16    medium   \n",
       "4                 11.0                  34.0   0.9978  3.51    medium   \n",
       "\n",
       "   alcohol color  quality  \n",
       "0      9.4   red        5  \n",
       "1      9.8   red        5  \n",
       "2      9.8     ?        5  \n",
       "3      9.8   red        6  \n",
       "4      9.4   red        5  "
      ]
     },
     "execution_count": 31,
     "metadata": {},
     "output_type": "execute_result"
    }
   ],
   "source": [
    "%matplotlib inline\n",
    "import matplotlib.pyplot as plt\n",
    "import pandas as pd\n",
    "import numpy as np\n",
    "try:    df = pd.read_csv(\"data/wine.csv\", sep=\";\")\n",
    "except: df = pd.read_csv(\"../data/wine.csv\", sep=\";\")\n",
    "df.head()"
   ]
  },
  {
   "cell_type": "code",
   "execution_count": 3,
   "metadata": {
    "ExecuteTime": {
     "end_time": "2019-06-17T16:10:16.838380Z",
     "start_time": "2019-06-17T16:10:16.812028Z"
    }
   },
   "outputs": [
    {
     "name": "stdout",
     "output_type": "stream",
     "text": [
      "<class 'pandas.core.frame.DataFrame'>\n",
      "RangeIndex: 6497 entries, 0 to 6496\n",
      "Data columns (total 13 columns):\n",
      "fixed acidity           6497 non-null float64\n",
      "volatile acidity        6497 non-null float64\n",
      "citric acid             6497 non-null float64\n",
      "residual sugar          6497 non-null float64\n",
      "chlorides               6497 non-null object\n",
      "free sulfur dioxide     6497 non-null float64\n",
      "total sulfur dioxide    6497 non-null float64\n",
      "density                 6497 non-null float64\n",
      "pH                      6497 non-null object\n",
      "sulphates               6497 non-null object\n",
      "alcohol                 6497 non-null float64\n",
      "color                   6497 non-null object\n",
      "quality                 6497 non-null int64\n",
      "dtypes: float64(8), int64(1), object(4)\n",
      "memory usage: 659.9+ KB\n"
     ]
    }
   ],
   "source": [
    "df.info()"
   ]
  },
  {
   "cell_type": "code",
   "execution_count": 4,
   "metadata": {
    "ExecuteTime": {
     "end_time": "2019-06-17T16:10:17.174182Z",
     "start_time": "2019-06-17T16:10:17.093034Z"
    }
   },
   "outputs": [
    {
     "name": "stdout",
     "output_type": "stream",
     "text": [
      "<class 'pandas.core.frame.DataFrame'>\n",
      "RangeIndex: 6497 entries, 0 to 6496\n",
      "Data columns (total 13 columns):\n",
      "fixed acidity           6497 non-null float64\n",
      "volatile acidity        6497 non-null float64\n",
      "citric acid             6497 non-null float64\n",
      "residual sugar          6497 non-null float64\n",
      "chlorides               6497 non-null object\n",
      "free sulfur dioxide     6497 non-null float64\n",
      "total sulfur dioxide    6497 non-null float64\n",
      "density                 6497 non-null float64\n",
      "pH                      5855 non-null float64\n",
      "sulphates               6497 non-null object\n",
      "alcohol                 6497 non-null float64\n",
      "color                   5787 non-null object\n",
      "quality                 6497 non-null int64\n",
      "dtypes: float64(9), int64(1), object(3)\n",
      "memory usage: 659.9+ KB\n"
     ]
    }
   ],
   "source": [
    "df = df.replace([\"?\"], np.nan)\n",
    "df[\"pH\"] = df[\"pH\"].astype(np.float64) #convert pH column to numeric\n",
    "df.info()\n",
    "\n",
    "X = df.drop(\"quality\", axis=1)\n",
    "y = df[[\"quality\"]]"
   ]
  },
  {
   "cell_type": "code",
   "execution_count": 5,
   "metadata": {
    "ExecuteTime": {
     "end_time": "2019-06-17T16:10:18.492082Z",
     "start_time": "2019-06-17T16:10:17.441029Z"
    }
   },
   "outputs": [],
   "source": [
    "from sklearn.model_selection import train_test_split\n",
    "X_train, X_test, y_train, y_test = train_test_split(X, y, random_state=0)\n"
   ]
  },
  {
   "cell_type": "markdown",
   "metadata": {},
   "source": [
    "# IMPUTE MISSING VALUES"
   ]
  },
  {
   "cell_type": "code",
   "execution_count": 6,
   "metadata": {
    "ExecuteTime": {
     "end_time": "2019-06-17T16:10:19.009292Z",
     "start_time": "2019-06-17T16:10:18.960714Z"
    }
   },
   "outputs": [
    {
     "name": "stdout",
     "output_type": "stream",
     "text": [
      "<class 'pandas.core.frame.DataFrame'>\n",
      "Int64Index: 4872 entries, 3731 to 2732\n",
      "Data columns (total 12 columns):\n",
      "fixed acidity           4872 non-null float64\n",
      "volatile acidity        4872 non-null float64\n",
      "citric acid             4872 non-null float64\n",
      "residual sugar          4872 non-null float64\n",
      "chlorides               4872 non-null object\n",
      "free sulfur dioxide     4872 non-null float64\n",
      "total sulfur dioxide    4872 non-null float64\n",
      "density                 4872 non-null float64\n",
      "pH                      4872 non-null float64\n",
      "sulphates               4872 non-null object\n",
      "alcohol                 4872 non-null float64\n",
      "color                   4872 non-null object\n",
      "dtypes: float64(9), object(3)\n",
      "memory usage: 494.8+ KB\n"
     ]
    }
   ],
   "source": [
    "#copy the datasets\n",
    "X_train = X_train.copy()\n",
    "X_test  = X_test .copy()\n",
    "\n",
    "#make a third category for color\n",
    "X_train[\"color\"] = X_train[\"color\"].fillna(\"unknown\")\n",
    "X_test [\"color\"] = X_test [\"color\"].fillna(\"unknown\")\n",
    "\n",
    "#use mean value of the training set for pH\n",
    "from sklearn.impute import SimpleImputer\n",
    "imp = SimpleImputer(strategy=\"mean\")\n",
    "imp.fit(X_train[[\"pH\"]])\n",
    "X_train[\"pH\"] = imp.transform(X_train[[\"pH\"]])\n",
    "X_test [\"pH\"] = imp.transform(X_test [[\"pH\"]])\n",
    "\n",
    "X_train.info()"
   ]
  },
  {
   "cell_type": "markdown",
   "metadata": {},
   "source": [
    "# Column transformation:\n",
    "- Convert categorical/text column into integers (oneHotEncoded)\n",
    "- Scale numerical columns"
   ]
  },
  {
   "cell_type": "code",
   "execution_count": 7,
   "metadata": {
    "ExecuteTime": {
     "end_time": "2019-06-17T16:10:27.674993Z",
     "start_time": "2019-06-17T16:10:27.661755Z"
    }
   },
   "outputs": [
    {
     "data": {
      "text/plain": [
       "fixed acidity           False\n",
       "volatile acidity        False\n",
       "citric acid             False\n",
       "residual sugar          False\n",
       "chlorides                True\n",
       "free sulfur dioxide     False\n",
       "total sulfur dioxide    False\n",
       "density                 False\n",
       "pH                      False\n",
       "sulphates                True\n",
       "alcohol                 False\n",
       "color                    True\n",
       "dtype: bool"
      ]
     },
     "execution_count": 7,
     "metadata": {},
     "output_type": "execute_result"
    }
   ],
   "source": [
    "categories = X.dtypes == object\n",
    "categories"
   ]
  },
  {
   "cell_type": "code",
   "execution_count": 8,
   "metadata": {
    "ExecuteTime": {
     "end_time": "2019-06-17T16:10:28.377661Z",
     "start_time": "2019-06-17T16:10:28.294863Z"
    }
   },
   "outputs": [
    {
     "name": "stdout",
     "output_type": "stream",
     "text": [
      "type= <class 'numpy.ndarray'>\n"
     ]
    },
    {
     "data": {
      "text/plain": [
       "array([[ 1.        ,  0.        ,  0.        ,  0.        ,  0.        ,\n",
       "         0.        ,  1.        ,  0.        ,  0.        ,  0.        ,\n",
       "         1.        , -0.08802117, -0.72820076,  0.00517689,  2.48517455,\n",
       "         1.02972262,  0.744625  ,  1.75251273,  1.01481219, -0.75281497],\n",
       "       [ 0.        ,  1.        ,  0.        ,  0.        ,  0.        ,\n",
       "         0.        ,  0.        ,  1.        ,  0.        ,  0.        ,\n",
       "         1.        , -0.78538358, -1.09072305,  0.07390119, -0.91964663,\n",
       "        -0.53015235, -0.59665306, -1.25026338,  0.68577368,  0.34073703],\n",
       "       [ 0.        ,  0.        ,  0.        ,  0.        ,  1.        ,\n",
       "         0.        ,  0.        ,  1.        ,  0.        ,  1.        ,\n",
       "         0.        , -0.39796002, -0.60736   , -0.13227171, -0.32703535,\n",
       "         4.14947258,  1.1152413 , -0.94657352, -1.15684202,  0.67721458],\n",
       "       [ 0.        ,  0.        ,  1.        ,  0.        ,  0.        ,\n",
       "         1.        ,  0.        ,  0.        ,  1.        ,  0.        ,\n",
       "         0.        ,  0.60934124, -0.36567848,  0.82986848, -0.76880013,\n",
       "        -0.14018361, -0.84373059,  0.1180471 ,  0.94900449,  0.59309519],\n",
       "       [ 0.        ,  0.        ,  1.        ,  0.        ,  0.        ,\n",
       "         1.        ,  0.        ,  0.        ,  1.        ,  0.        ,\n",
       "         0.        ,  2.54645904, -0.36567848,  1.31093857, -0.79034963,\n",
       "        -1.14296038, -1.62025999,  1.20655344, -0.10391876, -0.92105375]])"
      ]
     },
     "execution_count": 8,
     "metadata": {},
     "output_type": "execute_result"
    }
   ],
   "source": [
    "from sklearn.compose import make_column_transformer\n",
    "from sklearn.preprocessing import OneHotEncoder\n",
    "from sklearn.preprocessing import StandardScaler\n",
    "\n",
    "\n",
    "tf = make_column_transformer(\n",
    "    (OneHotEncoder(sparse=False),  categories), \n",
    "    (StandardScaler(), ~categories),     \n",
    "    remainder=\"passthrough\")\n",
    "tf.fit(X_train)\n",
    "X_train = tf.transform(X_train)\n",
    "X_test  = tf.transform(X_test)\n",
    "\n",
    "#now, X_train,X_test are not Pandas dataframes anymore, but are numpy arrays\n",
    "print(\"type=\", type(X_train))\n",
    "X_train[:5]"
   ]
  },
  {
   "cell_type": "code",
   "execution_count": 9,
   "metadata": {
    "ExecuteTime": {
     "end_time": "2019-06-17T16:10:30.087069Z",
     "start_time": "2019-06-17T16:10:29.554435Z"
    }
   },
   "outputs": [
    {
     "name": "stderr",
     "output_type": "stream",
     "text": [
      "/usr/local/lib/python3.5/dist-packages/sklearn/ensemble/gradient_boosting.py:1450: DataConversionWarning: A column-vector y was passed when a 1d array was expected. Please change the shape of y to (n_samples, ), for example using ravel().\n",
      "  y = column_or_1d(y, warn=True)\n"
     ]
    },
    {
     "name": "stdout",
     "output_type": "stream",
     "text": [
      "train 0.46460011085651653\n",
      "test  0.3860550446284505\n"
     ]
    }
   ],
   "source": [
    "from sklearn.ensemble import GradientBoostingRegressor\n",
    "regr = GradientBoostingRegressor()\n",
    "regr.fit(X_train, y_train)  \n",
    "print(\"train\", regr.score(X_train, y_train)  )\n",
    "print(\"test \", regr.score(X_test, y_test)  )"
   ]
  },
  {
   "cell_type": "code",
   "execution_count": 11,
   "metadata": {
    "ExecuteTime": {
     "end_time": "2019-06-17T16:11:03.638042Z",
     "start_time": "2019-06-17T16:11:03.624764Z"
    }
   },
   "outputs": [
    {
     "data": {
      "text/plain": [
       "array([1.82586344e-03, 5.56986050e-03, 2.64265583e-02, 0.00000000e+00,\n",
       "       2.99930809e-03, 1.26545202e-02, 4.32012613e-04, 3.44473037e-04,\n",
       "       0.00000000e+00, 0.00000000e+00, 7.08447261e-03, 1.95680172e-02,\n",
       "       1.70439863e-01, 4.16753675e-02, 4.57960119e-02, 9.73502877e-02,\n",
       "       4.26194748e-02, 3.15294416e-02, 2.58803776e-02, 4.67804089e-01])"
      ]
     },
     "execution_count": 11,
     "metadata": {},
     "output_type": "execute_result"
    }
   ],
   "source": [
    "regr.feature_importances_  "
   ]
  },
  {
   "cell_type": "code",
   "execution_count": 35,
   "metadata": {
    "ExecuteTime": {
     "end_time": "2019-06-17T16:20:16.283831Z",
     "start_time": "2019-06-17T16:20:16.273572Z"
    }
   },
   "outputs": [
    {
     "name": "stdout",
     "output_type": "stream",
     "text": [
      "{'n_estimators': [25, 50, 100, 150, 200], 'learning_rate': [0.02, 0.05, 0.1, 0.15, 0.2]}\n"
     ]
    }
   ],
   "source": [
    "from sklearn.model_selection import GridSearchCV\n",
    "\n",
    "param_grid = {'n_estimators': [25,50,100,150,200],\n",
    "              'learning_rate' : [0.02, 0.05,0.1,0.15,0.2]}\n",
    "\n",
    "np.set_printoptions(suppress=True)\n",
    "print(param_grid)"
   ]
  },
  {
   "cell_type": "code",
   "execution_count": 36,
   "metadata": {
    "ExecuteTime": {
     "end_time": "2019-06-17T16:20:16.871294Z",
     "start_time": "2019-06-17T16:20:16.867202Z"
    }
   },
   "outputs": [],
   "source": [
    "grid_search = GridSearchCV(GradientBoostingRegressor(), param_grid, verbose=3, cv=5, return_train_score=True)"
   ]
  },
  {
   "cell_type": "code",
   "execution_count": 37,
   "metadata": {
    "ExecuteTime": {
     "end_time": "2019-06-17T16:21:03.573783Z",
     "start_time": "2019-06-17T16:20:17.388081Z"
    },
    "scrolled": false
   },
   "outputs": [
    {
     "name": "stdout",
     "output_type": "stream",
     "text": [
      "Fitting 5 folds for each of 25 candidates, totalling 125 fits\n",
      "[CV] n_estimators=25, learning_rate=0.02 .............................\n",
      "[CV]  n_estimators=25, learning_rate=0.02, score=(train=0.188, test=0.155), total=   0.1s\n",
      "[CV] n_estimators=25, learning_rate=0.02 .............................\n"
     ]
    },
    {
     "name": "stderr",
     "output_type": "stream",
     "text": [
      "[Parallel(n_jobs=1)]: Using backend SequentialBackend with 1 concurrent workers.\n",
      "[Parallel(n_jobs=1)]: Done   1 out of   1 | elapsed:    0.1s remaining:    0.0s\n"
     ]
    },
    {
     "name": "stdout",
     "output_type": "stream",
     "text": [
      "[CV]  n_estimators=25, learning_rate=0.02, score=(train=0.180, test=0.175), total=   0.1s\n",
      "[CV] n_estimators=25, learning_rate=0.02 .............................\n",
      "[CV]  n_estimators=25, learning_rate=0.02, score=(train=0.182, test=0.175), total=   0.1s\n",
      "[CV] n_estimators=25, learning_rate=0.02 .............................\n"
     ]
    },
    {
     "name": "stderr",
     "output_type": "stream",
     "text": [
      "[Parallel(n_jobs=1)]: Done   2 out of   2 | elapsed:    0.2s remaining:    0.0s\n"
     ]
    },
    {
     "name": "stdout",
     "output_type": "stream",
     "text": [
      "[CV]  n_estimators=25, learning_rate=0.02, score=(train=0.178, test=0.181), total=   0.1s\n",
      "[CV] n_estimators=25, learning_rate=0.02 .............................\n",
      "[CV]  n_estimators=25, learning_rate=0.02, score=(train=0.180, test=0.177), total=   0.1s\n",
      "[CV] n_estimators=50, learning_rate=0.02 .............................\n",
      "[CV]  n_estimators=50, learning_rate=0.02, score=(train=0.271, test=0.219), total=   0.2s\n",
      "[CV] n_estimators=50, learning_rate=0.02 .............................\n",
      "[CV]  n_estimators=50, learning_rate=0.02, score=(train=0.258, test=0.248), total=   0.2s\n",
      "[CV] n_estimators=50, learning_rate=0.02 .............................\n",
      "[CV]  n_estimators=50, learning_rate=0.02, score=(train=0.262, test=0.247), total=   0.2s\n",
      "[CV] n_estimators=50, learning_rate=0.02 .............................\n",
      "[CV]  n_estimators=50, learning_rate=0.02, score=(train=0.257, test=0.257), total=   0.2s\n",
      "[CV] n_estimators=50, learning_rate=0.02 .............................\n",
      "[CV]  n_estimators=50, learning_rate=0.02, score=(train=0.259, test=0.252), total=   0.2s\n",
      "[CV] n_estimators=100, learning_rate=0.02 ............................\n",
      "[CV]  n_estimators=100, learning_rate=0.02, score=(train=0.345, test=0.270), total=   0.4s\n",
      "[CV] n_estimators=100, learning_rate=0.02 ............................\n",
      "[CV]  n_estimators=100, learning_rate=0.02, score=(train=0.329, test=0.313), total=   0.4s\n",
      "[CV] n_estimators=100, learning_rate=0.02 ............................\n",
      "[CV]  n_estimators=100, learning_rate=0.02, score=(train=0.334, test=0.305), total=   0.4s\n",
      "[CV] n_estimators=100, learning_rate=0.02 ............................\n",
      "[CV]  n_estimators=100, learning_rate=0.02, score=(train=0.329, test=0.319), total=   0.4s\n",
      "[CV] n_estimators=100, learning_rate=0.02 ............................\n",
      "[CV]  n_estimators=100, learning_rate=0.02, score=(train=0.332, test=0.311), total=   0.4s\n",
      "[CV] n_estimators=150, learning_rate=0.02 ............................\n",
      "[CV]  n_estimators=150, learning_rate=0.02, score=(train=0.384, test=0.297), total=   0.6s\n",
      "[CV] n_estimators=150, learning_rate=0.02 ............................\n",
      "[CV]  n_estimators=150, learning_rate=0.02, score=(train=0.366, test=0.340), total=   0.6s\n",
      "[CV] n_estimators=150, learning_rate=0.02 ............................\n",
      "[CV]  n_estimators=150, learning_rate=0.02, score=(train=0.372, test=0.338), total=   0.6s\n",
      "[CV] n_estimators=150, learning_rate=0.02 ............................\n",
      "[CV]  n_estimators=150, learning_rate=0.02, score=(train=0.370, test=0.349), total=   0.6s\n",
      "[CV] n_estimators=150, learning_rate=0.02 ............................\n",
      "[CV]  n_estimators=150, learning_rate=0.02, score=(train=0.373, test=0.340), total=   0.6s\n",
      "[CV] n_estimators=200, learning_rate=0.02 ............................\n",
      "[CV]  n_estimators=200, learning_rate=0.02, score=(train=0.409, test=0.310), total=   0.7s\n",
      "[CV] n_estimators=200, learning_rate=0.02 ............................\n",
      "[CV]  n_estimators=200, learning_rate=0.02, score=(train=0.391, test=0.359), total=   0.8s\n",
      "[CV] n_estimators=200, learning_rate=0.02 ............................\n",
      "[CV]  n_estimators=200, learning_rate=0.02, score=(train=0.394, test=0.354), total=   0.7s\n",
      "[CV] n_estimators=200, learning_rate=0.02 ............................\n",
      "[CV]  n_estimators=200, learning_rate=0.02, score=(train=0.395, test=0.366), total=   0.7s\n",
      "[CV] n_estimators=200, learning_rate=0.02 ............................\n",
      "[CV]  n_estimators=200, learning_rate=0.02, score=(train=0.397, test=0.353), total=   0.7s\n",
      "[CV] n_estimators=25, learning_rate=0.05 .............................\n",
      "[CV]  n_estimators=25, learning_rate=0.05, score=(train=0.299, test=0.238), total=   0.1s\n",
      "[CV] n_estimators=25, learning_rate=0.05 .............................\n",
      "[CV]  n_estimators=25, learning_rate=0.05, score=(train=0.282, test=0.270), total=   0.1s\n",
      "[CV] n_estimators=25, learning_rate=0.05 .............................\n",
      "[CV]  n_estimators=25, learning_rate=0.05, score=(train=0.288, test=0.269), total=   0.1s\n",
      "[CV] n_estimators=25, learning_rate=0.05 .............................\n",
      "[CV]  n_estimators=25, learning_rate=0.05, score=(train=0.283, test=0.280), total=   0.1s\n",
      "[CV] n_estimators=25, learning_rate=0.05 .............................\n",
      "[CV]  n_estimators=25, learning_rate=0.05, score=(train=0.287, test=0.276), total=   0.1s\n",
      "[CV] n_estimators=50, learning_rate=0.05 .............................\n",
      "[CV]  n_estimators=50, learning_rate=0.05, score=(train=0.366, test=0.284), total=   0.2s\n",
      "[CV] n_estimators=50, learning_rate=0.05 .............................\n",
      "[CV]  n_estimators=50, learning_rate=0.05, score=(train=0.350, test=0.328), total=   0.2s\n",
      "[CV] n_estimators=50, learning_rate=0.05 .............................\n",
      "[CV]  n_estimators=50, learning_rate=0.05, score=(train=0.358, test=0.323), total=   0.2s\n",
      "[CV] n_estimators=50, learning_rate=0.05 .............................\n",
      "[CV]  n_estimators=50, learning_rate=0.05, score=(train=0.354, test=0.336), total=   0.2s\n",
      "[CV] n_estimators=50, learning_rate=0.05 .............................\n",
      "[CV]  n_estimators=50, learning_rate=0.05, score=(train=0.357, test=0.331), total=   0.2s\n",
      "[CV] n_estimators=100, learning_rate=0.05 ............................\n",
      "[CV]  n_estimators=100, learning_rate=0.05, score=(train=0.427, test=0.318), total=   0.4s\n",
      "[CV] n_estimators=100, learning_rate=0.05 ............................\n",
      "[CV]  n_estimators=100, learning_rate=0.05, score=(train=0.410, test=0.371), total=   0.3s\n",
      "[CV] n_estimators=100, learning_rate=0.05 ............................\n",
      "[CV]  n_estimators=100, learning_rate=0.05, score=(train=0.413, test=0.368), total=   0.3s\n",
      "[CV] n_estimators=100, learning_rate=0.05 ............................\n",
      "[CV]  n_estimators=100, learning_rate=0.05, score=(train=0.413, test=0.375), total=   0.4s\n",
      "[CV] n_estimators=100, learning_rate=0.05 ............................\n",
      "[CV]  n_estimators=100, learning_rate=0.05, score=(train=0.417, test=0.368), total=   0.3s\n",
      "[CV] n_estimators=150, learning_rate=0.05 ............................\n",
      "[CV]  n_estimators=150, learning_rate=0.05, score=(train=0.460, test=0.332), total=   0.5s\n",
      "[CV] n_estimators=150, learning_rate=0.05 ............................\n",
      "[CV]  n_estimators=150, learning_rate=0.05, score=(train=0.445, test=0.390), total=   0.5s\n",
      "[CV] n_estimators=150, learning_rate=0.05 ............................\n",
      "[CV]  n_estimators=150, learning_rate=0.05, score=(train=0.448, test=0.381), total=   0.5s\n",
      "[CV] n_estimators=150, learning_rate=0.05 ............................\n",
      "[CV]  n_estimators=150, learning_rate=0.05, score=(train=0.446, test=0.389), total=   0.5s\n",
      "[CV] n_estimators=150, learning_rate=0.05 ............................\n",
      "[CV]  n_estimators=150, learning_rate=0.05, score=(train=0.453, test=0.382), total=   0.5s\n",
      "[CV] n_estimators=200, learning_rate=0.05 ............................\n",
      "[CV]  n_estimators=200, learning_rate=0.05, score=(train=0.484, test=0.340), total=   0.6s\n",
      "[CV] n_estimators=200, learning_rate=0.05 ............................\n",
      "[CV]  n_estimators=200, learning_rate=0.05, score=(train=0.470, test=0.400), total=   0.6s\n",
      "[CV] n_estimators=200, learning_rate=0.05 ............................\n",
      "[CV]  n_estimators=200, learning_rate=0.05, score=(train=0.473, test=0.388), total=   0.6s\n",
      "[CV] n_estimators=200, learning_rate=0.05 ............................\n",
      "[CV]  n_estimators=200, learning_rate=0.05, score=(train=0.472, test=0.400), total=   0.6s\n",
      "[CV] n_estimators=200, learning_rate=0.05 ............................\n",
      "[CV]  n_estimators=200, learning_rate=0.05, score=(train=0.477, test=0.390), total=   0.6s\n",
      "[CV] n_estimators=25, learning_rate=0.1 ..............................\n",
      "[CV]  n_estimators=25, learning_rate=0.1, score=(train=0.367, test=0.281), total=   0.1s\n",
      "[CV] n_estimators=25, learning_rate=0.1 ..............................\n",
      "[CV]  n_estimators=25, learning_rate=0.1, score=(train=0.352, test=0.328), total=   0.1s\n",
      "[CV] n_estimators=25, learning_rate=0.1 ..............................\n",
      "[CV]  n_estimators=25, learning_rate=0.1, score=(train=0.356, test=0.318), total=   0.1s\n",
      "[CV] n_estimators=25, learning_rate=0.1 ..............................\n",
      "[CV]  n_estimators=25, learning_rate=0.1, score=(train=0.353, test=0.337), total=   0.1s\n",
      "[CV] n_estimators=25, learning_rate=0.1 ..............................\n",
      "[CV]  n_estimators=25, learning_rate=0.1, score=(train=0.359, test=0.336), total=   0.1s\n",
      "[CV] n_estimators=50, learning_rate=0.1 ..............................\n"
     ]
    },
    {
     "name": "stdout",
     "output_type": "stream",
     "text": [
      "[CV]  n_estimators=50, learning_rate=0.1, score=(train=0.428, test=0.316), total=   0.2s\n",
      "[CV] n_estimators=50, learning_rate=0.1 ..............................\n",
      "[CV]  n_estimators=50, learning_rate=0.1, score=(train=0.414, test=0.376), total=   0.2s\n",
      "[CV] n_estimators=50, learning_rate=0.1 ..............................\n",
      "[CV]  n_estimators=50, learning_rate=0.1, score=(train=0.409, test=0.360), total=   0.2s\n",
      "[CV] n_estimators=50, learning_rate=0.1 ..............................\n",
      "[CV]  n_estimators=50, learning_rate=0.1, score=(train=0.416, test=0.377), total=   0.2s\n",
      "[CV] n_estimators=50, learning_rate=0.1 ..............................\n",
      "[CV]  n_estimators=50, learning_rate=0.1, score=(train=0.416, test=0.368), total=   0.2s\n",
      "[CV] n_estimators=100, learning_rate=0.1 .............................\n",
      "[CV]  n_estimators=100, learning_rate=0.1, score=(train=0.487, test=0.340), total=   0.3s\n",
      "[CV] n_estimators=100, learning_rate=0.1 .............................\n",
      "[CV]  n_estimators=100, learning_rate=0.1, score=(train=0.472, test=0.398), total=   0.3s\n",
      "[CV] n_estimators=100, learning_rate=0.1 .............................\n",
      "[CV]  n_estimators=100, learning_rate=0.1, score=(train=0.472, test=0.380), total=   0.3s\n",
      "[CV] n_estimators=100, learning_rate=0.1 .............................\n",
      "[CV]  n_estimators=100, learning_rate=0.1, score=(train=0.475, test=0.398), total=   0.3s\n",
      "[CV] n_estimators=100, learning_rate=0.1 .............................\n",
      "[CV]  n_estimators=100, learning_rate=0.1, score=(train=0.476, test=0.390), total=   0.3s\n",
      "[CV] n_estimators=150, learning_rate=0.1 .............................\n",
      "[CV]  n_estimators=150, learning_rate=0.1, score=(train=0.526, test=0.344), total=   0.6s\n",
      "[CV] n_estimators=150, learning_rate=0.1 .............................\n",
      "[CV]  n_estimators=150, learning_rate=0.1, score=(train=0.511, test=0.409), total=   0.5s\n",
      "[CV] n_estimators=150, learning_rate=0.1 .............................\n",
      "[CV]  n_estimators=150, learning_rate=0.1, score=(train=0.513, test=0.388), total=   0.5s\n",
      "[CV] n_estimators=150, learning_rate=0.1 .............................\n",
      "[CV]  n_estimators=150, learning_rate=0.1, score=(train=0.511, test=0.403), total=   0.5s\n",
      "[CV] n_estimators=150, learning_rate=0.1 .............................\n",
      "[CV]  n_estimators=150, learning_rate=0.1, score=(train=0.513, test=0.393), total=   0.5s\n",
      "[CV] n_estimators=200, learning_rate=0.1 .............................\n",
      "[CV]  n_estimators=200, learning_rate=0.1, score=(train=0.559, test=0.352), total=   0.6s\n",
      "[CV] n_estimators=200, learning_rate=0.1 .............................\n",
      "[CV]  n_estimators=200, learning_rate=0.1, score=(train=0.543, test=0.416), total=   0.6s\n",
      "[CV] n_estimators=200, learning_rate=0.1 .............................\n",
      "[CV]  n_estimators=200, learning_rate=0.1, score=(train=0.544, test=0.393), total=   0.6s\n",
      "[CV] n_estimators=200, learning_rate=0.1 .............................\n",
      "[CV]  n_estimators=200, learning_rate=0.1, score=(train=0.543, test=0.410), total=   0.7s\n",
      "[CV] n_estimators=200, learning_rate=0.1 .............................\n",
      "[CV]  n_estimators=200, learning_rate=0.1, score=(train=0.544, test=0.397), total=   0.7s\n",
      "[CV] n_estimators=25, learning_rate=0.15 .............................\n",
      "[CV]  n_estimators=25, learning_rate=0.15, score=(train=0.405, test=0.304), total=   0.1s\n",
      "[CV] n_estimators=25, learning_rate=0.15 .............................\n",
      "[CV]  n_estimators=25, learning_rate=0.15, score=(train=0.392, test=0.363), total=   0.1s\n",
      "[CV] n_estimators=25, learning_rate=0.15 .............................\n",
      "[CV]  n_estimators=25, learning_rate=0.15, score=(train=0.394, test=0.349), total=   0.1s\n",
      "[CV] n_estimators=25, learning_rate=0.15 .............................\n",
      "[CV]  n_estimators=25, learning_rate=0.15, score=(train=0.388, test=0.361), total=   0.1s\n",
      "[CV] n_estimators=25, learning_rate=0.15 .............................\n",
      "[CV]  n_estimators=25, learning_rate=0.15, score=(train=0.395, test=0.350), total=   0.1s\n",
      "[CV] n_estimators=50, learning_rate=0.15 .............................\n",
      "[CV]  n_estimators=50, learning_rate=0.15, score=(train=0.461, test=0.330), total=   0.2s\n",
      "[CV] n_estimators=50, learning_rate=0.15 .............................\n",
      "[CV]  n_estimators=50, learning_rate=0.15, score=(train=0.447, test=0.393), total=   0.2s\n",
      "[CV] n_estimators=50, learning_rate=0.15 .............................\n",
      "[CV]  n_estimators=50, learning_rate=0.15, score=(train=0.453, test=0.378), total=   0.2s\n",
      "[CV] n_estimators=50, learning_rate=0.15 .............................\n",
      "[CV]  n_estimators=50, learning_rate=0.15, score=(train=0.446, test=0.388), total=   0.2s\n",
      "[CV] n_estimators=50, learning_rate=0.15 .............................\n",
      "[CV]  n_estimators=50, learning_rate=0.15, score=(train=0.452, test=0.372), total=   0.2s\n",
      "[CV] n_estimators=100, learning_rate=0.15 ............................\n",
      "[CV]  n_estimators=100, learning_rate=0.15, score=(train=0.523, test=0.352), total=   0.3s\n",
      "[CV] n_estimators=100, learning_rate=0.15 ............................\n",
      "[CV]  n_estimators=100, learning_rate=0.15, score=(train=0.506, test=0.407), total=   0.3s\n",
      "[CV] n_estimators=100, learning_rate=0.15 ............................\n",
      "[CV]  n_estimators=100, learning_rate=0.15, score=(train=0.514, test=0.387), total=   0.3s\n",
      "[CV] n_estimators=100, learning_rate=0.15 ............................\n",
      "[CV]  n_estimators=100, learning_rate=0.15, score=(train=0.513, test=0.402), total=   0.3s\n",
      "[CV] n_estimators=100, learning_rate=0.15 ............................\n",
      "[CV]  n_estimators=100, learning_rate=0.15, score=(train=0.514, test=0.384), total=   0.3s\n",
      "[CV] n_estimators=150, learning_rate=0.15 ............................\n",
      "[CV]  n_estimators=150, learning_rate=0.15, score=(train=0.572, test=0.357), total=   0.5s\n",
      "[CV] n_estimators=150, learning_rate=0.15 ............................\n",
      "[CV]  n_estimators=150, learning_rate=0.15, score=(train=0.554, test=0.419), total=   0.6s\n",
      "[CV] n_estimators=150, learning_rate=0.15 ............................\n",
      "[CV]  n_estimators=150, learning_rate=0.15, score=(train=0.560, test=0.391), total=   0.5s\n",
      "[CV] n_estimators=150, learning_rate=0.15 ............................\n",
      "[CV]  n_estimators=150, learning_rate=0.15, score=(train=0.561, test=0.412), total=   0.5s\n",
      "[CV] n_estimators=150, learning_rate=0.15 ............................\n",
      "[CV]  n_estimators=150, learning_rate=0.15, score=(train=0.560, test=0.388), total=   0.4s\n",
      "[CV] n_estimators=200, learning_rate=0.15 ............................\n",
      "[CV]  n_estimators=200, learning_rate=0.15, score=(train=0.607, test=0.364), total=   0.6s\n",
      "[CV] n_estimators=200, learning_rate=0.15 ............................\n",
      "[CV]  n_estimators=200, learning_rate=0.15, score=(train=0.594, test=0.423), total=   0.6s\n",
      "[CV] n_estimators=200, learning_rate=0.15 ............................\n",
      "[CV]  n_estimators=200, learning_rate=0.15, score=(train=0.600, test=0.398), total=   0.6s\n",
      "[CV] n_estimators=200, learning_rate=0.15 ............................\n",
      "[CV]  n_estimators=200, learning_rate=0.15, score=(train=0.595, test=0.420), total=   0.6s\n",
      "[CV] n_estimators=200, learning_rate=0.15 ............................\n",
      "[CV]  n_estimators=200, learning_rate=0.15, score=(train=0.598, test=0.392), total=   0.7s\n",
      "[CV] n_estimators=25, learning_rate=0.2 ..............................\n",
      "[CV]  n_estimators=25, learning_rate=0.2, score=(train=0.432, test=0.317), total=   0.1s\n",
      "[CV] n_estimators=25, learning_rate=0.2 ..............................\n",
      "[CV]  n_estimators=25, learning_rate=0.2, score=(train=0.413, test=0.372), total=   0.1s\n",
      "[CV] n_estimators=25, learning_rate=0.2 ..............................\n",
      "[CV]  n_estimators=25, learning_rate=0.2, score=(train=0.416, test=0.358), total=   0.1s\n",
      "[CV] n_estimators=25, learning_rate=0.2 ..............................\n",
      "[CV]  n_estimators=25, learning_rate=0.2, score=(train=0.412, test=0.375), total=   0.1s\n",
      "[CV] n_estimators=25, learning_rate=0.2 ..............................\n",
      "[CV]  n_estimators=25, learning_rate=0.2, score=(train=0.413, test=0.369), total=   0.1s\n",
      "[CV] n_estimators=50, learning_rate=0.2 ..............................\n",
      "[CV]  n_estimators=50, learning_rate=0.2, score=(train=0.484, test=0.341), total=   0.2s\n",
      "[CV] n_estimators=50, learning_rate=0.2 ..............................\n",
      "[CV]  n_estimators=50, learning_rate=0.2, score=(train=0.473, test=0.398), total=   0.2s\n",
      "[CV] n_estimators=50, learning_rate=0.2 ..............................\n"
     ]
    },
    {
     "name": "stdout",
     "output_type": "stream",
     "text": [
      "[CV]  n_estimators=50, learning_rate=0.2, score=(train=0.474, test=0.380), total=   0.2s\n",
      "[CV] n_estimators=50, learning_rate=0.2 ..............................\n",
      "[CV]  n_estimators=50, learning_rate=0.2, score=(train=0.476, test=0.398), total=   0.2s\n",
      "[CV] n_estimators=50, learning_rate=0.2 ..............................\n",
      "[CV]  n_estimators=50, learning_rate=0.2, score=(train=0.472, test=0.387), total=   0.2s\n",
      "[CV] n_estimators=100, learning_rate=0.2 .............................\n",
      "[CV]  n_estimators=100, learning_rate=0.2, score=(train=0.559, test=0.363), total=   0.3s\n",
      "[CV] n_estimators=100, learning_rate=0.2 .............................\n",
      "[CV]  n_estimators=100, learning_rate=0.2, score=(train=0.542, test=0.407), total=   0.3s\n",
      "[CV] n_estimators=100, learning_rate=0.2 .............................\n",
      "[CV]  n_estimators=100, learning_rate=0.2, score=(train=0.542, test=0.393), total=   0.3s\n",
      "[CV] n_estimators=100, learning_rate=0.2 .............................\n",
      "[CV]  n_estimators=100, learning_rate=0.2, score=(train=0.548, test=0.407), total=   0.3s\n",
      "[CV] n_estimators=100, learning_rate=0.2 .............................\n",
      "[CV]  n_estimators=100, learning_rate=0.2, score=(train=0.539, test=0.390), total=   0.3s\n",
      "[CV] n_estimators=150, learning_rate=0.2 .............................\n",
      "[CV]  n_estimators=150, learning_rate=0.2, score=(train=0.612, test=0.360), total=   0.5s\n",
      "[CV] n_estimators=150, learning_rate=0.2 .............................\n",
      "[CV]  n_estimators=150, learning_rate=0.2, score=(train=0.601, test=0.410), total=   0.4s\n",
      "[CV] n_estimators=150, learning_rate=0.2 .............................\n",
      "[CV]  n_estimators=150, learning_rate=0.2, score=(train=0.595, test=0.391), total=   0.5s\n",
      "[CV] n_estimators=150, learning_rate=0.2 .............................\n",
      "[CV]  n_estimators=150, learning_rate=0.2, score=(train=0.597, test=0.410), total=   0.4s\n",
      "[CV] n_estimators=150, learning_rate=0.2 .............................\n",
      "[CV]  n_estimators=150, learning_rate=0.2, score=(train=0.595, test=0.394), total=   0.4s\n",
      "[CV] n_estimators=200, learning_rate=0.2 .............................\n",
      "[CV]  n_estimators=200, learning_rate=0.2, score=(train=0.651, test=0.355), total=   0.6s\n",
      "[CV] n_estimators=200, learning_rate=0.2 .............................\n",
      "[CV]  n_estimators=200, learning_rate=0.2, score=(train=0.641, test=0.413), total=   0.6s\n",
      "[CV] n_estimators=200, learning_rate=0.2 .............................\n",
      "[CV]  n_estimators=200, learning_rate=0.2, score=(train=0.640, test=0.399), total=   0.6s\n",
      "[CV] n_estimators=200, learning_rate=0.2 .............................\n",
      "[CV]  n_estimators=200, learning_rate=0.2, score=(train=0.636, test=0.418), total=   0.6s\n",
      "[CV] n_estimators=200, learning_rate=0.2 .............................\n",
      "[CV]  n_estimators=200, learning_rate=0.2, score=(train=0.641, test=0.399), total=   0.6s\n"
     ]
    },
    {
     "name": "stderr",
     "output_type": "stream",
     "text": [
      "[Parallel(n_jobs=1)]: Done 125 out of 125 | elapsed:   45.4s finished\n"
     ]
    },
    {
     "data": {
      "text/plain": [
       "GridSearchCV(cv=5, error_score='raise-deprecating',\n",
       "             estimator=GradientBoostingRegressor(alpha=0.9,\n",
       "                                                 criterion='friedman_mse',\n",
       "                                                 init=None, learning_rate=0.1,\n",
       "                                                 loss='ls', max_depth=3,\n",
       "                                                 max_features=None,\n",
       "                                                 max_leaf_nodes=None,\n",
       "                                                 min_impurity_decrease=0.0,\n",
       "                                                 min_impurity_split=None,\n",
       "                                                 min_samples_leaf=1,\n",
       "                                                 min_samples_split=2,\n",
       "                                                 min_weight_fraction_leaf=0.0,\n",
       "                                                 n_estimators=100,\n",
       "                                                 n_iter_no_change=None,\n",
       "                                                 presort='auto',\n",
       "                                                 random_state=None,\n",
       "                                                 subsample=1.0, tol=0.0001,\n",
       "                                                 validation_fraction=0.1,\n",
       "                                                 verbose=0, warm_start=False),\n",
       "             iid='warn', n_jobs=None,\n",
       "             param_grid={'learning_rate': [0.02, 0.05, 0.1, 0.15, 0.2],\n",
       "                         'n_estimators': [25, 50, 100, 150, 200]},\n",
       "             pre_dispatch='2*n_jobs', refit=True, return_train_score=True,\n",
       "             scoring=None, verbose=3)"
      ]
     },
     "execution_count": 37,
     "metadata": {},
     "output_type": "execute_result"
    }
   ],
   "source": [
    "grid_search.fit(X_train, y_train.values.flatten())"
   ]
  },
  {
   "cell_type": "code",
   "execution_count": 43,
   "metadata": {
    "ExecuteTime": {
     "end_time": "2019-06-17T16:23:18.243494Z",
     "start_time": "2019-06-17T16:23:18.234131Z"
    }
   },
   "outputs": [],
   "source": [
    "scores = pd.DataFrame(grid_search.cv_results_)"
   ]
  },
  {
   "cell_type": "code",
   "execution_count": 44,
   "metadata": {
    "ExecuteTime": {
     "end_time": "2019-06-17T16:23:19.028590Z",
     "start_time": "2019-06-17T16:23:18.757337Z"
    }
   },
   "outputs": [
    {
     "data": {
      "text/plain": [
       "<matplotlib.axes._subplots.AxesSubplot at 0x7f6be0a267b8>"
      ]
     },
     "execution_count": 44,
     "metadata": {},
     "output_type": "execute_result"
    },
    {
     "data": {
      "image/png": "[encoded data removed]",
      "text/plain": [
       "<matplotlib.figure.Figure at 0x7f6be09cbef0>"
      ]
     },
     "metadata": {
      "needs_background": "light"
     },
     "output_type": "display_data"
    }
   ],
   "source": [
    "scores.groupby(\"param_learning_rate\").mean()[[\"mean_test_score\", \"mean_train_score\"]].plot()"
   ]
  },
  {
   "cell_type": "code",
   "execution_count": 45,
   "metadata": {
    "ExecuteTime": {
     "end_time": "2019-06-17T16:23:19.800652Z",
     "start_time": "2019-06-17T16:23:19.467601Z"
    }
   },
   "outputs": [
    {
     "data": {
      "text/plain": [
       "<matplotlib.axes._subplots.AxesSubplot at 0x7f6be083b2e8>"
      ]
     },
     "execution_count": 45,
     "metadata": {},
     "output_type": "execute_result"
    },
    {
     "data": {
      "image/png": "[encoded data removed]",
      "text/plain": [
       "<matplotlib.figure.Figure at 0x7f6be093c4e0>"
      ]
     },
     "metadata": {
      "needs_background": "light"
     },
     "output_type": "display_data"
    }
   ],
   "source": [
    "scores.groupby(\"param_n_estimators\").mean()[[\"mean_test_score\", \"mean_train_score\"]].plot()"
   ]
  },
  {
   "cell_type": "code",
   "execution_count": 42,
   "metadata": {
    "ExecuteTime": {
     "end_time": "2019-06-17T16:23:03.657792Z",
     "start_time": "2019-06-17T16:23:03.394008Z"
    }
   },
   "outputs": [
    {
     "data": {
      "image/png": "[encoded data removed]",
      "text/plain": [
       "<matplotlib.figure.Figure at 0x7f6c2527e668>"
      ]
     },
     "metadata": {
      "needs_background": "light"
     },
     "output_type": "display_data"
    }
   ],
   "source": [
    "scores = grid_search.cv_results_['mean_test_score']\n",
    "scores = np.array(scores).reshape(5, 5)\n",
    "\n",
    "plt.matshow(scores)\n",
    "plt.xlabel('n_estimators')\n",
    "plt.ylabel('learning_rate')\n",
    "plt.colorbar()\n",
    "plt.xticks(np.arange(5), param_grid['n_estimators'])\n",
    "plt.yticks(np.arange(5), param_grid['learning_rate'])\n",
    "plt.show()"
   ]
  },
  {
   "cell_type": "code",
   "execution_count": 46,
   "metadata": {
    "ExecuteTime": {
     "end_time": "2019-06-17T16:23:33.118529Z",
     "start_time": "2019-06-17T16:23:33.110377Z"
    }
   },
   "outputs": [
    {
     "data": {
      "text/plain": [
       "0.39934041087823813"
      ]
     },
     "execution_count": 46,
     "metadata": {},
     "output_type": "execute_result"
    }
   ],
   "source": [
    "grid_search.best_score_"
   ]
  },
  {
   "cell_type": "code",
   "execution_count": null,
   "metadata": {},
   "outputs": [],
   "source": []
  }
 ],
 "metadata": {
  "kernelspec": {
   "display_name": "Python 3",
   "language": "python",
   "name": "python3"
  },
  "language_info": {
   "codemirror_mode": {
    "name": "ipython",
    "version": 3
   },
   "file_extension": ".py",
   "mimetype": "text/x-python",
   "name": "python",
   "nbconvert_exporter": "python",
   "pygments_lexer": "ipython3",
   "version": "3.5.2"
  },
  "varInspector": {
   "cols": {
    "lenName": 16,
    "lenType": 16,
    "lenVar": 40
   },
   "kernels_config": {
    "python": {
     "delete_cmd_postfix": "",
     "delete_cmd_prefix": "del ",
     "library": "var_list.py",
     "varRefreshCmd": "print(var_dic_list())"
    },
    "r": {
     "delete_cmd_postfix": ") ",
     "delete_cmd_prefix": "rm(",
     "library": "var_list.r",
     "varRefreshCmd": "cat(var_dic_list()) "
    }
   },
   "types_to_exclude": [
    "module",
    "function",
    "builtin_function_or_method",
    "instance",
    "_Feature"
   ],
   "window_display": false
  }
 },
 "nbformat": 4,
 "nbformat_minor": 2
}
