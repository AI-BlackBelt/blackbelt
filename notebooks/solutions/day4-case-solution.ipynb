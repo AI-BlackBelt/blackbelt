{
 "cells": [
  {
   "cell_type": "code",
   "execution_count": 54,
   "metadata": {
    "ExecuteTime": {
     "end_time": "2019-06-15T06:50:04.115909Z",
     "start_time": "2019-06-15T06:50:04.066424Z"
    }
   },
   "outputs": [
    {
     "data": {
      "text/html": [
       "<div>\n",
       "<style scoped>\n",
       "    .dataframe tbody tr th:only-of-type {\n",
       "        vertical-align: middle;\n",
       "    }\n",
       "\n",
       "    .dataframe tbody tr th {\n",
       "        vertical-align: top;\n",
       "    }\n",
       "\n",
       "    .dataframe thead th {\n",
       "        text-align: right;\n",
       "    }\n",
       "</style>\n",
       "<table border=\"1\" class=\"dataframe\">\n",
       "  <thead>\n",
       "    <tr style=\"text-align: right;\">\n",
       "      <th></th>\n",
       "      <th>fixed acidity</th>\n",
       "      <th>volatile acidity</th>\n",
       "      <th>citric acid</th>\n",
       "      <th>residual sugar</th>\n",
       "      <th>chlorides</th>\n",
       "      <th>free sulfur dioxide</th>\n",
       "      <th>total sulfur dioxide</th>\n",
       "      <th>density</th>\n",
       "      <th>pH</th>\n",
       "      <th>sulphates</th>\n",
       "      <th>alcohol</th>\n",
       "      <th>color</th>\n",
       "      <th>quality</th>\n",
       "    </tr>\n",
       "  </thead>\n",
       "  <tbody>\n",
       "    <tr>\n",
       "      <th>0</th>\n",
       "      <td>7.4</td>\n",
       "      <td>0.70</td>\n",
       "      <td>0.00</td>\n",
       "      <td>1.9</td>\n",
       "      <td>E</td>\n",
       "      <td>11.0</td>\n",
       "      <td>34.0</td>\n",
       "      <td>0.9978</td>\n",
       "      <td>3.51</td>\n",
       "      <td>medium</td>\n",
       "      <td>9.4</td>\n",
       "      <td>red</td>\n",
       "      <td>5</td>\n",
       "    </tr>\n",
       "    <tr>\n",
       "      <th>1</th>\n",
       "      <td>7.8</td>\n",
       "      <td>0.88</td>\n",
       "      <td>0.00</td>\n",
       "      <td>2.6</td>\n",
       "      <td>C</td>\n",
       "      <td>25.0</td>\n",
       "      <td>67.0</td>\n",
       "      <td>0.9968</td>\n",
       "      <td>3.2</td>\n",
       "      <td>high</td>\n",
       "      <td>9.8</td>\n",
       "      <td>red</td>\n",
       "      <td>5</td>\n",
       "    </tr>\n",
       "    <tr>\n",
       "      <th>2</th>\n",
       "      <td>7.8</td>\n",
       "      <td>0.76</td>\n",
       "      <td>0.04</td>\n",
       "      <td>2.3</td>\n",
       "      <td>C</td>\n",
       "      <td>15.0</td>\n",
       "      <td>54.0</td>\n",
       "      <td>0.9970</td>\n",
       "      <td>3.26</td>\n",
       "      <td>high</td>\n",
       "      <td>9.8</td>\n",
       "      <td>?</td>\n",
       "      <td>5</td>\n",
       "    </tr>\n",
       "    <tr>\n",
       "      <th>3</th>\n",
       "      <td>11.2</td>\n",
       "      <td>0.28</td>\n",
       "      <td>0.56</td>\n",
       "      <td>1.9</td>\n",
       "      <td>E</td>\n",
       "      <td>17.0</td>\n",
       "      <td>60.0</td>\n",
       "      <td>0.9980</td>\n",
       "      <td>3.16</td>\n",
       "      <td>medium</td>\n",
       "      <td>9.8</td>\n",
       "      <td>red</td>\n",
       "      <td>6</td>\n",
       "    </tr>\n",
       "    <tr>\n",
       "      <th>4</th>\n",
       "      <td>7.4</td>\n",
       "      <td>0.70</td>\n",
       "      <td>0.00</td>\n",
       "      <td>1.9</td>\n",
       "      <td>E</td>\n",
       "      <td>11.0</td>\n",
       "      <td>34.0</td>\n",
       "      <td>0.9978</td>\n",
       "      <td>3.51</td>\n",
       "      <td>medium</td>\n",
       "      <td>9.4</td>\n",
       "      <td>red</td>\n",
       "      <td>5</td>\n",
       "    </tr>\n",
       "  </tbody>\n",
       "</table>\n",
       "</div>"
      ],
      "text/plain": [
       "   fixed acidity  volatile acidity  citric acid  residual sugar chlorides  \\\n",
       "0            7.4              0.70         0.00             1.9         E   \n",
       "1            7.8              0.88         0.00             2.6         C   \n",
       "2            7.8              0.76         0.04             2.3         C   \n",
       "3           11.2              0.28         0.56             1.9         E   \n",
       "4            7.4              0.70         0.00             1.9         E   \n",
       "\n",
       "   free sulfur dioxide  total sulfur dioxide  density    pH sulphates  \\\n",
       "0                 11.0                  34.0   0.9978  3.51    medium   \n",
       "1                 25.0                  67.0   0.9968   3.2      high   \n",
       "2                 15.0                  54.0   0.9970  3.26      high   \n",
       "3                 17.0                  60.0   0.9980  3.16    medium   \n",
       "4                 11.0                  34.0   0.9978  3.51    medium   \n",
       "\n",
       "   alcohol color  quality  \n",
       "0      9.4   red        5  \n",
       "1      9.8   red        5  \n",
       "2      9.8     ?        5  \n",
       "3      9.8   red        6  \n",
       "4      9.4   red        5  "
      ]
     },
     "execution_count": 54,
     "metadata": {},
     "output_type": "execute_result"
    }
   ],
   "source": [
    "import pandas as pd\n",
    "import numpy as np\n",
    "\n",
    "df = pd.read_csv(\"data/wine.csv\", sep=\";\")\n",
    "df.head()"
   ]
  },
  {
   "cell_type": "code",
   "execution_count": 55,
   "metadata": {
    "ExecuteTime": {
     "end_time": "2019-06-15T06:50:04.139385Z",
     "start_time": "2019-06-15T06:50:04.121300Z"
    }
   },
   "outputs": [
    {
     "name": "stdout",
     "output_type": "stream",
     "text": [
      "<class 'pandas.core.frame.DataFrame'>\n",
      "RangeIndex: 6497 entries, 0 to 6496\n",
      "Data columns (total 13 columns):\n",
      "fixed acidity           6497 non-null float64\n",
      "volatile acidity        6497 non-null float64\n",
      "citric acid             6497 non-null float64\n",
      "residual sugar          6497 non-null float64\n",
      "chlorides               6497 non-null object\n",
      "free sulfur dioxide     6497 non-null float64\n",
      "total sulfur dioxide    6497 non-null float64\n",
      "density                 6497 non-null float64\n",
      "pH                      6497 non-null object\n",
      "sulphates               6497 non-null object\n",
      "alcohol                 6497 non-null float64\n",
      "color                   6497 non-null object\n",
      "quality                 6497 non-null int64\n",
      "dtypes: float64(8), int64(1), object(4)\n",
      "memory usage: 659.9+ KB\n"
     ]
    }
   ],
   "source": [
    "df.info()"
   ]
  },
  {
   "cell_type": "code",
   "execution_count": 56,
   "metadata": {
    "ExecuteTime": {
     "end_time": "2019-06-15T06:50:04.201824Z",
     "start_time": "2019-06-15T06:50:04.144929Z"
    }
   },
   "outputs": [
    {
     "name": "stdout",
     "output_type": "stream",
     "text": [
      "<class 'pandas.core.frame.DataFrame'>\n",
      "RangeIndex: 6497 entries, 0 to 6496\n",
      "Data columns (total 13 columns):\n",
      "fixed acidity           6497 non-null float64\n",
      "volatile acidity        6497 non-null float64\n",
      "citric acid             6497 non-null float64\n",
      "residual sugar          6497 non-null float64\n",
      "chlorides               6497 non-null object\n",
      "free sulfur dioxide     6497 non-null float64\n",
      "total sulfur dioxide    6497 non-null float64\n",
      "density                 6497 non-null float64\n",
      "pH                      5855 non-null float64\n",
      "sulphates               6497 non-null object\n",
      "alcohol                 6497 non-null float64\n",
      "color                   5787 non-null object\n",
      "quality                 6497 non-null int64\n",
      "dtypes: float64(9), int64(1), object(3)\n",
      "memory usage: 659.9+ KB\n"
     ]
    }
   ],
   "source": [
    "df = df.replace([\"?\"], np.nan)\n",
    "df[\"pH\"] = df[\"pH\"].astype(np.float64) #convert pH column to numeric\n",
    "df.info()\n",
    "\n",
    "X = df.drop(\"quality\", axis=1)\n",
    "y = df[[\"quality\"]]"
   ]
  },
  {
   "cell_type": "code",
   "execution_count": 57,
   "metadata": {
    "ExecuteTime": {
     "end_time": "2019-06-15T06:50:04.223982Z",
     "start_time": "2019-06-15T06:50:04.209730Z"
    }
   },
   "outputs": [],
   "source": [
    "from sklearn.model_selection import train_test_split\n",
    "X_train, X_test, y_train, y_test = train_test_split(X, y, random_state=0)\n"
   ]
  },
  {
   "cell_type": "markdown",
   "metadata": {},
   "source": [
    "# IMPUTE MISSING VALUES"
   ]
  },
  {
   "cell_type": "code",
   "execution_count": 58,
   "metadata": {
    "ExecuteTime": {
     "end_time": "2019-06-15T06:50:04.272132Z",
     "start_time": "2019-06-15T06:50:04.233256Z"
    }
   },
   "outputs": [
    {
     "name": "stdout",
     "output_type": "stream",
     "text": [
      "<class 'pandas.core.frame.DataFrame'>\n",
      "Int64Index: 4872 entries, 3731 to 2732\n",
      "Data columns (total 12 columns):\n",
      "fixed acidity           4872 non-null float64\n",
      "volatile acidity        4872 non-null float64\n",
      "citric acid             4872 non-null float64\n",
      "residual sugar          4872 non-null float64\n",
      "chlorides               4872 non-null object\n",
      "free sulfur dioxide     4872 non-null float64\n",
      "total sulfur dioxide    4872 non-null float64\n",
      "density                 4872 non-null float64\n",
      "pH                      4872 non-null float64\n",
      "sulphates               4872 non-null object\n",
      "alcohol                 4872 non-null float64\n",
      "color                   4872 non-null object\n",
      "dtypes: float64(9), object(3)\n",
      "memory usage: 494.8+ KB\n"
     ]
    }
   ],
   "source": [
    "#copy the datasets\n",
    "X_train = X_train.copy()\n",
    "X_test  = X_test .copy()\n",
    "\n",
    "#make a third category for color\n",
    "X_train[\"color\"] = X_train[\"color\"].fillna(\"unknown\")\n",
    "X_test [\"color\"] = X_test [\"color\"].fillna(\"unknown\")\n",
    "\n",
    "#use mean value of the training set for pH\n",
    "from sklearn.impute import SimpleImputer\n",
    "imp = SimpleImputer(strategy=\"mean\")\n",
    "imp.fit(X_train[[\"pH\"]])\n",
    "X_train[\"pH\"] = imp.transform(X_train[[\"pH\"]])\n",
    "X_test [\"pH\"] = imp.transform(X_test [[\"pH\"]])\n",
    "\n",
    "X_train.info()"
   ]
  },
  {
   "cell_type": "markdown",
   "metadata": {},
   "source": [
    "# Column transformation:\n",
    "- Convert categorical/text column into integers (oneHotEncoded)\n",
    "- Scale numerical columns"
   ]
  },
  {
   "cell_type": "code",
   "execution_count": 59,
   "metadata": {
    "ExecuteTime": {
     "end_time": "2019-06-15T06:50:04.286658Z",
     "start_time": "2019-06-15T06:50:04.276375Z"
    }
   },
   "outputs": [
    {
     "data": {
      "text/plain": [
       "fixed acidity           False\n",
       "volatile acidity        False\n",
       "citric acid             False\n",
       "residual sugar          False\n",
       "chlorides                True\n",
       "free sulfur dioxide     False\n",
       "total sulfur dioxide    False\n",
       "density                 False\n",
       "pH                      False\n",
       "sulphates                True\n",
       "alcohol                 False\n",
       "color                    True\n",
       "dtype: bool"
      ]
     },
     "execution_count": 59,
     "metadata": {},
     "output_type": "execute_result"
    }
   ],
   "source": [
    "categories = X.dtypes == object\n",
    "categories"
   ]
  },
  {
   "cell_type": "code",
   "execution_count": 60,
   "metadata": {
    "ExecuteTime": {
     "end_time": "2019-06-15T06:50:04.360169Z",
     "start_time": "2019-06-15T06:50:04.290442Z"
    }
   },
   "outputs": [
    {
     "name": "stdout",
     "output_type": "stream",
     "text": [
      "type= <class 'numpy.ndarray'>\n"
     ]
    },
    {
     "data": {
      "text/plain": [
       "array([[ 1.        ,  0.        ,  0.        ,  0.        ,  0.        ,\n",
       "         0.        ,  1.        ,  0.        ,  0.        ,  0.        ,\n",
       "         1.        , -0.08802117, -0.72820076,  0.00517689,  2.48517455,\n",
       "         1.02972262,  0.744625  ,  1.75251273,  1.01481219, -0.75281497],\n",
       "       [ 0.        ,  1.        ,  0.        ,  0.        ,  0.        ,\n",
       "         0.        ,  0.        ,  1.        ,  0.        ,  0.        ,\n",
       "         1.        , -0.78538358, -1.09072305,  0.07390119, -0.91964663,\n",
       "        -0.53015235, -0.59665306, -1.25026338,  0.68577368,  0.34073703],\n",
       "       [ 0.        ,  0.        ,  0.        ,  0.        ,  1.        ,\n",
       "         0.        ,  0.        ,  1.        ,  0.        ,  1.        ,\n",
       "         0.        , -0.39796002, -0.60736   , -0.13227171, -0.32703535,\n",
       "         4.14947258,  1.1152413 , -0.94657352, -1.15684202,  0.67721458],\n",
       "       [ 0.        ,  0.        ,  1.        ,  0.        ,  0.        ,\n",
       "         1.        ,  0.        ,  0.        ,  1.        ,  0.        ,\n",
       "         0.        ,  0.60934124, -0.36567848,  0.82986848, -0.76880013,\n",
       "        -0.14018361, -0.84373059,  0.1180471 ,  0.94900449,  0.59309519],\n",
       "       [ 0.        ,  0.        ,  1.        ,  0.        ,  0.        ,\n",
       "         1.        ,  0.        ,  0.        ,  1.        ,  0.        ,\n",
       "         0.        ,  2.54645904, -0.36567848,  1.31093857, -0.79034963,\n",
       "        -1.14296038, -1.62025999,  1.20655344, -0.10391876, -0.92105375]])"
      ]
     },
     "execution_count": 60,
     "metadata": {},
     "output_type": "execute_result"
    }
   ],
   "source": [
    "from sklearn.compose import make_column_transformer\n",
    "from sklearn.preprocessing import OneHotEncoder\n",
    "from sklearn.preprocessing import StandardScaler\n",
    "\n",
    "\n",
    "tf = make_column_transformer(\n",
    "    (OneHotEncoder(sparse=False),  categories), \n",
    "    (StandardScaler(), ~categories),     \n",
    "    remainder=\"passthrough\")\n",
    "tf.fit(X_train)\n",
    "X_train = tf.transform(X_train)\n",
    "X_test  = tf.transform(X_test)\n",
    "\n",
    "#now, X_train,X_test are not Pandas dataframes anymore, but are numpy arrays\n",
    "print(\"type=\", type(X_train))\n",
    "X_train[:5]"
   ]
  },
  {
   "cell_type": "code",
   "execution_count": 61,
   "metadata": {
    "ExecuteTime": {
     "end_time": "2019-06-15T06:53:01.047427Z",
     "start_time": "2019-06-15T06:53:00.731699Z"
    }
   },
   "outputs": [
    {
     "name": "stderr",
     "output_type": "stream",
     "text": [
      "/usr/local/lib/python3.5/dist-packages/sklearn/utils/validation.py:724: DataConversionWarning: A column-vector y was passed when a 1d array was expected. Please change the shape of y to (n_samples, ), for example using ravel().\n",
      "  y = column_or_1d(y, warn=True)\n"
     ]
    },
    {
     "name": "stdout",
     "output_type": "stream",
     "text": [
      "train 0.3214006392493878\n",
      "test  0.28792648610559846\n"
     ]
    }
   ],
   "source": [
    "from sklearn.ensemble import AdaBoostRegressor\n",
    "regr = AdaBoostRegressor(random_state=0, n_estimators=20)\n",
    "regr.fit(X_train, y_train)  \n",
    "print(\"train\", regr.score(X_train, y_train)  )\n",
    "print(\"test \", regr.score(X_test, y_test)  )"
   ]
  },
  {
   "cell_type": "code",
   "execution_count": 62,
   "metadata": {
    "ExecuteTime": {
     "end_time": "2019-06-15T06:53:04.787050Z",
     "start_time": "2019-06-15T06:53:04.775657Z"
    }
   },
   "outputs": [
    {
     "data": {
      "text/plain": [
       "array([0.        , 0.        , 0.04221051, 0.        , 0.00248454,\n",
       "       0.02485741, 0.        , 0.        , 0.        , 0.00191911,\n",
       "       0.        , 0.0225236 , 0.1435816 , 0.05857267, 0.05772124,\n",
       "       0.16386258, 0.0835261 , 0.06418548, 0.00761266, 0.3269425 ])"
      ]
     },
     "execution_count": 62,
     "metadata": {},
     "output_type": "execute_result"
    }
   ],
   "source": [
    "regr.feature_importances_  "
   ]
  },
  {
   "cell_type": "code",
   "execution_count": null,
   "metadata": {},
   "outputs": [],
   "source": []
  }
 ],
 "metadata": {
  "kernelspec": {
   "display_name": "Python 3",
   "language": "python",
   "name": "python3"
  },
  "language_info": {
   "codemirror_mode": {
    "name": "ipython",
    "version": 3
   },
   "file_extension": ".py",
   "mimetype": "text/x-python",
   "name": "python",
   "nbconvert_exporter": "python",
   "pygments_lexer": "ipython3",
   "version": "3.5.2"
  },
  "varInspector": {
   "cols": {
    "lenName": 16,
    "lenType": 16,
    "lenVar": 40
   },
   "kernels_config": {
    "python": {
     "delete_cmd_postfix": "",
     "delete_cmd_prefix": "del ",
     "library": "var_list.py",
     "varRefreshCmd": "print(var_dic_list())"
    },
    "r": {
     "delete_cmd_postfix": ") ",
     "delete_cmd_prefix": "rm(",
     "library": "var_list.r",
     "varRefreshCmd": "cat(var_dic_list()) "
    }
   },
   "types_to_exclude": [
    "module",
    "function",
    "builtin_function_or_method",
    "instance",
    "_Feature"
   ],
   "window_display": false
  }
 },
 "nbformat": 4,
 "nbformat_minor": 2
}
